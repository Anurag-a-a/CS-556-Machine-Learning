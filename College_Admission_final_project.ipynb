{
 "cells": [
  {
   "cell_type": "markdown",
   "id": "2sU0TVDjIaYl",
   "metadata": {
    "id": "2sU0TVDjIaYl"
   },
   "source": [
    "## **`Linear Regression`**"
   ]
  },
  {
   "cell_type": "code",
   "execution_count": 1,
   "id": "s8b_i2qOPVR1",
   "metadata": {
    "id": "s8b_i2qOPVR1"
   },
   "outputs": [],
   "source": [
    "import numpy as np # linear algebra\n",
    "import pandas as pd # data processing, CSV file I/O (e.g. pd.read_csv)\n",
    "import seaborn as sns\n",
    "import matplotlib.pyplot as plt"
   ]
  },
  {
   "cell_type": "code",
   "execution_count": 2,
   "id": "59b3c1ae",
   "metadata": {
    "colab": {
     "base_uri": "https://localhost:8080/",
     "height": 300
    },
    "id": "59b3c1ae",
    "outputId": "64467854-53e1-41b4-fc19-d6b32346748a"
   },
   "outputs": [
    {
     "data": {
      "text/html": [
       "<div>\n",
       "<style scoped>\n",
       "    .dataframe tbody tr th:only-of-type {\n",
       "        vertical-align: middle;\n",
       "    }\n",
       "\n",
       "    .dataframe tbody tr th {\n",
       "        vertical-align: top;\n",
       "    }\n",
       "\n",
       "    .dataframe thead th {\n",
       "        text-align: right;\n",
       "    }\n",
       "</style>\n",
       "<table border=\"1\" class=\"dataframe\">\n",
       "  <thead>\n",
       "    <tr style=\"text-align: right;\">\n",
       "      <th></th>\n",
       "      <th>Serial No.</th>\n",
       "      <th>GRE Score</th>\n",
       "      <th>TOEFL Score</th>\n",
       "      <th>University Rating</th>\n",
       "      <th>SOP</th>\n",
       "      <th>LOR</th>\n",
       "      <th>CGPA</th>\n",
       "      <th>Research</th>\n",
       "      <th>Chance of Admit</th>\n",
       "    </tr>\n",
       "  </thead>\n",
       "  <tbody>\n",
       "    <tr>\n",
       "      <th>count</th>\n",
       "      <td>400.000000</td>\n",
       "      <td>400.000000</td>\n",
       "      <td>400.000000</td>\n",
       "      <td>400.000000</td>\n",
       "      <td>400.000000</td>\n",
       "      <td>400.000000</td>\n",
       "      <td>400.000000</td>\n",
       "      <td>400.000000</td>\n",
       "      <td>400.000000</td>\n",
       "    </tr>\n",
       "    <tr>\n",
       "      <th>mean</th>\n",
       "      <td>200.500000</td>\n",
       "      <td>316.807500</td>\n",
       "      <td>107.410000</td>\n",
       "      <td>3.087500</td>\n",
       "      <td>3.400000</td>\n",
       "      <td>3.452500</td>\n",
       "      <td>8.598925</td>\n",
       "      <td>0.547500</td>\n",
       "      <td>0.724350</td>\n",
       "    </tr>\n",
       "    <tr>\n",
       "      <th>std</th>\n",
       "      <td>115.614301</td>\n",
       "      <td>11.473646</td>\n",
       "      <td>6.069514</td>\n",
       "      <td>1.143728</td>\n",
       "      <td>1.006869</td>\n",
       "      <td>0.898478</td>\n",
       "      <td>0.596317</td>\n",
       "      <td>0.498362</td>\n",
       "      <td>0.142609</td>\n",
       "    </tr>\n",
       "    <tr>\n",
       "      <th>min</th>\n",
       "      <td>1.000000</td>\n",
       "      <td>290.000000</td>\n",
       "      <td>92.000000</td>\n",
       "      <td>1.000000</td>\n",
       "      <td>1.000000</td>\n",
       "      <td>1.000000</td>\n",
       "      <td>6.800000</td>\n",
       "      <td>0.000000</td>\n",
       "      <td>0.340000</td>\n",
       "    </tr>\n",
       "    <tr>\n",
       "      <th>25%</th>\n",
       "      <td>100.750000</td>\n",
       "      <td>308.000000</td>\n",
       "      <td>103.000000</td>\n",
       "      <td>2.000000</td>\n",
       "      <td>2.500000</td>\n",
       "      <td>3.000000</td>\n",
       "      <td>8.170000</td>\n",
       "      <td>0.000000</td>\n",
       "      <td>0.640000</td>\n",
       "    </tr>\n",
       "    <tr>\n",
       "      <th>50%</th>\n",
       "      <td>200.500000</td>\n",
       "      <td>317.000000</td>\n",
       "      <td>107.000000</td>\n",
       "      <td>3.000000</td>\n",
       "      <td>3.500000</td>\n",
       "      <td>3.500000</td>\n",
       "      <td>8.610000</td>\n",
       "      <td>1.000000</td>\n",
       "      <td>0.730000</td>\n",
       "    </tr>\n",
       "    <tr>\n",
       "      <th>75%</th>\n",
       "      <td>300.250000</td>\n",
       "      <td>325.000000</td>\n",
       "      <td>112.000000</td>\n",
       "      <td>4.000000</td>\n",
       "      <td>4.000000</td>\n",
       "      <td>4.000000</td>\n",
       "      <td>9.062500</td>\n",
       "      <td>1.000000</td>\n",
       "      <td>0.830000</td>\n",
       "    </tr>\n",
       "    <tr>\n",
       "      <th>max</th>\n",
       "      <td>400.000000</td>\n",
       "      <td>340.000000</td>\n",
       "      <td>120.000000</td>\n",
       "      <td>5.000000</td>\n",
       "      <td>5.000000</td>\n",
       "      <td>5.000000</td>\n",
       "      <td>9.920000</td>\n",
       "      <td>1.000000</td>\n",
       "      <td>0.970000</td>\n",
       "    </tr>\n",
       "  </tbody>\n",
       "</table>\n",
       "</div>"
      ],
      "text/plain": [
       "       Serial No.   GRE Score  TOEFL Score  University Rating         SOP  \\\n",
       "count  400.000000  400.000000   400.000000         400.000000  400.000000   \n",
       "mean   200.500000  316.807500   107.410000           3.087500    3.400000   \n",
       "std    115.614301   11.473646     6.069514           1.143728    1.006869   \n",
       "min      1.000000  290.000000    92.000000           1.000000    1.000000   \n",
       "25%    100.750000  308.000000   103.000000           2.000000    2.500000   \n",
       "50%    200.500000  317.000000   107.000000           3.000000    3.500000   \n",
       "75%    300.250000  325.000000   112.000000           4.000000    4.000000   \n",
       "max    400.000000  340.000000   120.000000           5.000000    5.000000   \n",
       "\n",
       "             LOR         CGPA    Research  Chance of Admit   \n",
       "count  400.000000  400.000000  400.000000        400.000000  \n",
       "mean     3.452500    8.598925    0.547500          0.724350  \n",
       "std      0.898478    0.596317    0.498362          0.142609  \n",
       "min      1.000000    6.800000    0.000000          0.340000  \n",
       "25%      3.000000    8.170000    0.000000          0.640000  \n",
       "50%      3.500000    8.610000    1.000000          0.730000  \n",
       "75%      4.000000    9.062500    1.000000          0.830000  \n",
       "max      5.000000    9.920000    1.000000          0.970000  "
      ]
     },
     "execution_count": 2,
     "metadata": {},
     "output_type": "execute_result"
    }
   ],
   "source": [
    "#reading data from csv file\n",
    "admission_cv = pd.read_csv('College_Admissions.csv')\n",
    "\n",
    "#description of the data\n",
    "admission_cv.describe()\n"
   ]
  },
  {
   "cell_type": "code",
   "execution_count": 3,
   "id": "c585f4cb",
   "metadata": {
    "id": "c585f4cb"
   },
   "outputs": [],
   "source": [
    "#Droping the columns which are not important (not considered)\n",
    "admission_cv.drop(labels=['Serial No.','University Rating','Research'], axis=1, inplace=True)"
   ]
  },
  {
   "cell_type": "code",
   "execution_count": 4,
   "id": "755f81cb",
   "metadata": {
    "colab": {
     "base_uri": "https://localhost:8080/",
     "height": 424
    },
    "id": "755f81cb",
    "outputId": "3f3fd573-bd12-4542-a508-3cead3bd8eef"
   },
   "outputs": [
    {
     "data": {
      "text/html": [
       "<div>\n",
       "<style scoped>\n",
       "    .dataframe tbody tr th:only-of-type {\n",
       "        vertical-align: middle;\n",
       "    }\n",
       "\n",
       "    .dataframe tbody tr th {\n",
       "        vertical-align: top;\n",
       "    }\n",
       "\n",
       "    .dataframe thead th {\n",
       "        text-align: right;\n",
       "    }\n",
       "</style>\n",
       "<table border=\"1\" class=\"dataframe\">\n",
       "  <thead>\n",
       "    <tr style=\"text-align: right;\">\n",
       "      <th></th>\n",
       "      <th>GRE Score</th>\n",
       "      <th>TOEFL Score</th>\n",
       "      <th>SOP</th>\n",
       "      <th>LOR</th>\n",
       "      <th>CGPA</th>\n",
       "      <th>Chance of Admit</th>\n",
       "    </tr>\n",
       "  </thead>\n",
       "  <tbody>\n",
       "    <tr>\n",
       "      <th>0</th>\n",
       "      <td>337</td>\n",
       "      <td>118</td>\n",
       "      <td>4.5</td>\n",
       "      <td>4.5</td>\n",
       "      <td>9.65</td>\n",
       "      <td>0.92</td>\n",
       "    </tr>\n",
       "    <tr>\n",
       "      <th>1</th>\n",
       "      <td>324</td>\n",
       "      <td>107</td>\n",
       "      <td>4.0</td>\n",
       "      <td>4.5</td>\n",
       "      <td>8.87</td>\n",
       "      <td>0.76</td>\n",
       "    </tr>\n",
       "    <tr>\n",
       "      <th>2</th>\n",
       "      <td>316</td>\n",
       "      <td>104</td>\n",
       "      <td>3.0</td>\n",
       "      <td>3.5</td>\n",
       "      <td>8.00</td>\n",
       "      <td>0.72</td>\n",
       "    </tr>\n",
       "    <tr>\n",
       "      <th>3</th>\n",
       "      <td>322</td>\n",
       "      <td>110</td>\n",
       "      <td>3.5</td>\n",
       "      <td>2.5</td>\n",
       "      <td>8.67</td>\n",
       "      <td>0.80</td>\n",
       "    </tr>\n",
       "    <tr>\n",
       "      <th>4</th>\n",
       "      <td>314</td>\n",
       "      <td>103</td>\n",
       "      <td>2.0</td>\n",
       "      <td>3.0</td>\n",
       "      <td>8.21</td>\n",
       "      <td>0.65</td>\n",
       "    </tr>\n",
       "    <tr>\n",
       "      <th>...</th>\n",
       "      <td>...</td>\n",
       "      <td>...</td>\n",
       "      <td>...</td>\n",
       "      <td>...</td>\n",
       "      <td>...</td>\n",
       "      <td>...</td>\n",
       "    </tr>\n",
       "    <tr>\n",
       "      <th>395</th>\n",
       "      <td>324</td>\n",
       "      <td>110</td>\n",
       "      <td>3.5</td>\n",
       "      <td>3.5</td>\n",
       "      <td>9.04</td>\n",
       "      <td>0.82</td>\n",
       "    </tr>\n",
       "    <tr>\n",
       "      <th>396</th>\n",
       "      <td>325</td>\n",
       "      <td>107</td>\n",
       "      <td>3.0</td>\n",
       "      <td>3.5</td>\n",
       "      <td>9.11</td>\n",
       "      <td>0.84</td>\n",
       "    </tr>\n",
       "    <tr>\n",
       "      <th>397</th>\n",
       "      <td>330</td>\n",
       "      <td>116</td>\n",
       "      <td>5.0</td>\n",
       "      <td>4.5</td>\n",
       "      <td>9.45</td>\n",
       "      <td>0.91</td>\n",
       "    </tr>\n",
       "    <tr>\n",
       "      <th>398</th>\n",
       "      <td>312</td>\n",
       "      <td>103</td>\n",
       "      <td>3.5</td>\n",
       "      <td>4.0</td>\n",
       "      <td>8.78</td>\n",
       "      <td>0.67</td>\n",
       "    </tr>\n",
       "    <tr>\n",
       "      <th>399</th>\n",
       "      <td>333</td>\n",
       "      <td>117</td>\n",
       "      <td>5.0</td>\n",
       "      <td>4.0</td>\n",
       "      <td>9.66</td>\n",
       "      <td>0.95</td>\n",
       "    </tr>\n",
       "  </tbody>\n",
       "</table>\n",
       "<p>400 rows × 6 columns</p>\n",
       "</div>"
      ],
      "text/plain": [
       "     GRE Score  TOEFL Score  SOP  LOR   CGPA  Chance of Admit \n",
       "0          337          118  4.5   4.5  9.65              0.92\n",
       "1          324          107  4.0   4.5  8.87              0.76\n",
       "2          316          104  3.0   3.5  8.00              0.72\n",
       "3          322          110  3.5   2.5  8.67              0.80\n",
       "4          314          103  2.0   3.0  8.21              0.65\n",
       "..         ...          ...  ...   ...   ...               ...\n",
       "395        324          110  3.5   3.5  9.04              0.82\n",
       "396        325          107  3.0   3.5  9.11              0.84\n",
       "397        330          116  5.0   4.5  9.45              0.91\n",
       "398        312          103  3.5   4.0  8.78              0.67\n",
       "399        333          117  5.0   4.0  9.66              0.95\n",
       "\n",
       "[400 rows x 6 columns]"
      ]
     },
     "execution_count": 4,
     "metadata": {},
     "output_type": "execute_result"
    }
   ],
   "source": [
    "admission_cv"
   ]
  },
  {
   "cell_type": "code",
   "execution_count": 5,
   "id": "eb6760ca",
   "metadata": {
    "colab": {
     "base_uri": "https://localhost:8080/",
     "height": 362
    },
    "id": "eb6760ca",
    "outputId": "86f948aa-70a0-40e4-d198-5add792852f3"
   },
   "outputs": [
    {
     "data": {
      "text/plain": [
       "<AxesSubplot:>"
      ]
     },
     "execution_count": 5,
     "metadata": {},
     "output_type": "execute_result"
    },
    {
     "data": {
      "image/png": "[encoded data removed]",
      "text/plain": [
       "<Figure size 432x288 with 2 Axes>"
      ]
     },
     "metadata": {
      "needs_background": "light"
     },
     "output_type": "display_data"
    }
   ],
   "source": [
    "#plotting covariance matrix to see the covariance among different colums\n",
    "sns.heatmap(admission_cv.corr(), annot=True)"
   ]
  },
  {
   "cell_type": "code",
   "execution_count": 6,
   "id": "3481bea8",
   "metadata": {
    "id": "3481bea8"
   },
   "outputs": [],
   "source": [
    "from sklearn.preprocessing import StandardScaler\n",
    "from sklearn.model_selection import train_test_split"
   ]
  },
  {
   "cell_type": "code",
   "execution_count": 7,
   "id": "44e56200",
   "metadata": {
    "id": "44e56200"
   },
   "outputs": [],
   "source": [
    "X = admission_cv.iloc[:, :-1]\n",
    "y = admission_cv.iloc[:, -1]\n",
    "from sklearn.utils import shuffle\n",
    "X, y = shuffle(X, y)\n",
    "\n",
    "#spliting the data into train and test\n",
    "X_train, X_test, y_train, y_test = train_test_split(X, y, test_size=0.2) "
   ]
  },
  {
   "cell_type": "code",
   "execution_count": 8,
   "id": "9ed97ae9",
   "metadata": {
    "colab": {
     "base_uri": "https://localhost:8080/",
     "height": 424
    },
    "id": "9ed97ae9",
    "outputId": "a00a4f3f-f00c-4d7b-cdaf-76d4ab3b5591"
   },
   "outputs": [
    {
     "data": {
      "text/html": [
       "<div>\n",
       "<style scoped>\n",
       "    .dataframe tbody tr th:only-of-type {\n",
       "        vertical-align: middle;\n",
       "    }\n",
       "\n",
       "    .dataframe tbody tr th {\n",
       "        vertical-align: top;\n",
       "    }\n",
       "\n",
       "    .dataframe thead th {\n",
       "        text-align: right;\n",
       "    }\n",
       "</style>\n",
       "<table border=\"1\" class=\"dataframe\">\n",
       "  <thead>\n",
       "    <tr style=\"text-align: right;\">\n",
       "      <th></th>\n",
       "      <th>0</th>\n",
       "      <th>1</th>\n",
       "      <th>2</th>\n",
       "      <th>3</th>\n",
       "      <th>4</th>\n",
       "    </tr>\n",
       "  </thead>\n",
       "  <tbody>\n",
       "    <tr>\n",
       "      <th>0</th>\n",
       "      <td>-0.194085</td>\n",
       "      <td>-0.445424</td>\n",
       "      <td>-1.403667</td>\n",
       "      <td>-1.105456</td>\n",
       "      <td>-0.242493</td>\n",
       "    </tr>\n",
       "    <tr>\n",
       "      <th>1</th>\n",
       "      <td>-1.839884</td>\n",
       "      <td>-2.091335</td>\n",
       "      <td>-0.419716</td>\n",
       "      <td>-1.663415</td>\n",
       "      <td>-1.775855</td>\n",
       "    </tr>\n",
       "    <tr>\n",
       "      <th>2</th>\n",
       "      <td>1.624956</td>\n",
       "      <td>1.694259</td>\n",
       "      <td>1.056210</td>\n",
       "      <td>1.684338</td>\n",
       "      <td>1.470304</td>\n",
       "    </tr>\n",
       "    <tr>\n",
       "      <th>3</th>\n",
       "      <td>1.451714</td>\n",
       "      <td>1.365077</td>\n",
       "      <td>0.564234</td>\n",
       "      <td>-0.547497</td>\n",
       "      <td>-1.025486</td>\n",
       "    </tr>\n",
       "    <tr>\n",
       "      <th>4</th>\n",
       "      <td>-1.406779</td>\n",
       "      <td>-0.280833</td>\n",
       "      <td>-0.911692</td>\n",
       "      <td>-0.547497</td>\n",
       "      <td>-0.258806</td>\n",
       "    </tr>\n",
       "    <tr>\n",
       "      <th>...</th>\n",
       "      <td>...</td>\n",
       "      <td>...</td>\n",
       "      <td>...</td>\n",
       "      <td>...</td>\n",
       "      <td>...</td>\n",
       "    </tr>\n",
       "    <tr>\n",
       "      <th>75</th>\n",
       "      <td>0.498883</td>\n",
       "      <td>-0.116242</td>\n",
       "      <td>0.072259</td>\n",
       "      <td>0.010462</td>\n",
       "      <td>-0.128307</td>\n",
       "    </tr>\n",
       "    <tr>\n",
       "      <th>76</th>\n",
       "      <td>0.152399</td>\n",
       "      <td>0.048349</td>\n",
       "      <td>-0.419716</td>\n",
       "      <td>0.010462</td>\n",
       "      <td>-0.144619</td>\n",
       "    </tr>\n",
       "    <tr>\n",
       "      <th>77</th>\n",
       "      <td>0.152399</td>\n",
       "      <td>-0.445424</td>\n",
       "      <td>-0.419716</td>\n",
       "      <td>0.010462</td>\n",
       "      <td>0.067441</td>\n",
       "    </tr>\n",
       "    <tr>\n",
       "      <th>78</th>\n",
       "      <td>-0.713811</td>\n",
       "      <td>-1.432971</td>\n",
       "      <td>0.564234</td>\n",
       "      <td>0.568421</td>\n",
       "      <td>-0.111995</td>\n",
       "    </tr>\n",
       "    <tr>\n",
       "      <th>79</th>\n",
       "      <td>-0.020843</td>\n",
       "      <td>-0.116242</td>\n",
       "      <td>0.564234</td>\n",
       "      <td>-0.547497</td>\n",
       "      <td>0.116378</td>\n",
       "    </tr>\n",
       "  </tbody>\n",
       "</table>\n",
       "<p>80 rows × 5 columns</p>\n",
       "</div>"
      ],
      "text/plain": [
       "           0         1         2         3         4\n",
       "0  -0.194085 -0.445424 -1.403667 -1.105456 -0.242493\n",
       "1  -1.839884 -2.091335 -0.419716 -1.663415 -1.775855\n",
       "2   1.624956  1.694259  1.056210  1.684338  1.470304\n",
       "3   1.451714  1.365077  0.564234 -0.547497 -1.025486\n",
       "4  -1.406779 -0.280833 -0.911692 -0.547497 -0.258806\n",
       "..       ...       ...       ...       ...       ...\n",
       "75  0.498883 -0.116242  0.072259  0.010462 -0.128307\n",
       "76  0.152399  0.048349 -0.419716  0.010462 -0.144619\n",
       "77  0.152399 -0.445424 -0.419716  0.010462  0.067441\n",
       "78 -0.713811 -1.432971  0.564234  0.568421 -0.111995\n",
       "79 -0.020843 -0.116242  0.564234 -0.547497  0.116378\n",
       "\n",
       "[80 rows x 5 columns]"
      ]
     },
     "execution_count": 8,
     "metadata": {},
     "output_type": "execute_result"
    }
   ],
   "source": [
    "#Scalling the data\n",
    "ss = StandardScaler()\n",
    "\n",
    "#applying fit_transform to training data and transform to testing data as it won't change the mean and variance\n",
    "X_train, X_test = ss.fit_transform(X_train), ss.transform(X_test) \n",
    "pd.DataFrame(X_test) # getting a glimpse"
   ]
  },
  {
   "cell_type": "code",
   "execution_count": 9,
   "id": "c6f2f7fe",
   "metadata": {
    "id": "c6f2f7fe"
   },
   "outputs": [],
   "source": [
    "from sklearn.linear_model import LinearRegression"
   ]
  },
  {
   "cell_type": "code",
   "execution_count": 10,
   "id": "0d2dfbf2",
   "metadata": {
    "id": "0d2dfbf2"
   },
   "outputs": [],
   "source": [
    "#applying linear regression\n",
    "LR = LinearRegression()\n",
    "LR.fit(X_train, y_train)\n",
    "y_pred = LR.predict(X_test)\n",
    "y_pred_train = LR.predict(X_train)\n"
   ]
  },
  {
   "cell_type": "code",
   "execution_count": 11,
   "id": "qR0jXSSnT4-Z",
   "metadata": {
    "id": "qR0jXSSnT4-Z"
   },
   "outputs": [],
   "source": [
    "LR_score = LR.score(X_test,y_test) "
   ]
  },
  {
   "cell_type": "code",
   "execution_count": 12,
   "id": "58ac0b17",
   "metadata": {
    "colab": {
     "base_uri": "https://localhost:8080/"
    },
    "id": "58ac0b17",
    "outputId": "07de2197-1d0f-4b7e-eda5-34f87d59db86"
   },
   "outputs": [
    {
     "data": {
      "text/plain": [
       "0.0041742938784538304"
      ]
     },
     "execution_count": 12,
     "metadata": {},
     "output_type": "execute_result"
    }
   ],
   "source": [
    "n_train=len(X_train)  \n",
    "n_test=len(X_test)\n",
    "\n",
    "#calculated MSE of training data\n",
    "train_MSE = 1/n_train*sum((y_train-y_pred_train)**2)\n",
    "train_MSE"
   ]
  },
  {
   "cell_type": "code",
   "execution_count": 13,
   "id": "d33e25b2",
   "metadata": {
    "colab": {
     "base_uri": "https://localhost:8080/"
    },
    "id": "d33e25b2",
    "outputId": "5b9a4458-1547-4363-fc2e-1c59b81f0f51"
   },
   "outputs": [
    {
     "data": {
      "text/plain": [
       "0.003967271299117479"
      ]
     },
     "execution_count": 13,
     "metadata": {},
     "output_type": "execute_result"
    }
   ],
   "source": [
    "#calculated MSE of testing data\n",
    "test_MSE = 1/n_test*sum((y_test-y_pred)**2)  \n",
    "test_MSE"
   ]
  },
  {
   "cell_type": "code",
   "execution_count": 14,
   "id": "bbf24bfb",
   "metadata": {
    "colab": {
     "base_uri": "https://localhost:8080/",
     "height": 206
    },
    "id": "bbf24bfb",
    "outputId": "2c8ee83e-b94f-40c4-a334-bbc9592f57e7"
   },
   "outputs": [
    {
     "data": {
      "text/html": [
       "<div>\n",
       "<style scoped>\n",
       "    .dataframe tbody tr th:only-of-type {\n",
       "        vertical-align: middle;\n",
       "    }\n",
       "\n",
       "    .dataframe tbody tr th {\n",
       "        vertical-align: top;\n",
       "    }\n",
       "\n",
       "    .dataframe thead th {\n",
       "        text-align: right;\n",
       "    }\n",
       "</style>\n",
       "<table border=\"1\" class=\"dataframe\">\n",
       "  <thead>\n",
       "    <tr style=\"text-align: right;\">\n",
       "      <th></th>\n",
       "      <th>coefficient</th>\n",
       "    </tr>\n",
       "  </thead>\n",
       "  <tbody>\n",
       "    <tr>\n",
       "      <th>GRE Score</th>\n",
       "      <td>0.021000</td>\n",
       "    </tr>\n",
       "    <tr>\n",
       "      <th>TOEFL Score</th>\n",
       "      <td>0.015823</td>\n",
       "    </tr>\n",
       "    <tr>\n",
       "      <th>SOP</th>\n",
       "      <td>0.007858</td>\n",
       "    </tr>\n",
       "    <tr>\n",
       "      <th>LOR</th>\n",
       "      <td>0.017535</td>\n",
       "    </tr>\n",
       "    <tr>\n",
       "      <th>CGPA</th>\n",
       "      <td>0.078469</td>\n",
       "    </tr>\n",
       "  </tbody>\n",
       "</table>\n",
       "</div>"
      ],
      "text/plain": [
       "             coefficient\n",
       "GRE Score       0.021000\n",
       "TOEFL Score     0.015823\n",
       "SOP             0.007858\n",
       "LOR             0.017535\n",
       "CGPA            0.078469"
      ]
     },
     "execution_count": 14,
     "metadata": {},
     "output_type": "execute_result"
    }
   ],
   "source": [
    "#coefficient of each considered column (the most affecting column is CGPA in prediction)\n",
    "pd.DataFrame(index=X.columns.values, data=LR.coef_, columns = ['coefficient'])"
   ]
  },
  {
   "cell_type": "code",
   "execution_count": 15,
   "id": "c624310e",
   "metadata": {
    "colab": {
     "base_uri": "https://localhost:8080/",
     "height": 391
    },
    "id": "c624310e",
    "outputId": "f3b367a2-2acc-4542-965b-30be73931125"
   },
   "outputs": [
    {
     "data": {
      "text/plain": [
       "<BarContainer object of 5 artists>"
      ]
     },
     "execution_count": 15,
     "metadata": {},
     "output_type": "execute_result"
    },
    {
     "data": {
      "image/png": "[encoded data removed]",
      "text/plain": [
       "<Figure size 576x432 with 1 Axes>"
      ]
     },
     "metadata": {
      "needs_background": "light"
     },
     "output_type": "display_data"
    }
   ],
   "source": [
    "#visualizing coefficients\n",
    "plt.figure(figsize=(8,6))\n",
    "plt.bar(X.columns.values, LR.coef_)"
   ]
  },
  {
   "cell_type": "markdown",
   "id": "595b6857",
   "metadata": {
    "id": "595b6857"
   },
   "source": [
    "# Applying PCA for linear regression"
   ]
  },
  {
   "cell_type": "code",
   "execution_count": 16,
   "id": "-i9iYMxcRjQF",
   "metadata": {
    "id": "-i9iYMxcRjQF"
   },
   "outputs": [],
   "source": [
    "from sklearn.decomposition import PCA "
   ]
  },
  {
   "cell_type": "code",
   "execution_count": 17,
   "id": "fcb0066a",
   "metadata": {
    "id": "fcb0066a"
   },
   "outputs": [],
   "source": [
    "y_pca = admission_cv['Chance of Admit ']\n",
    "X_pca = admission_cv.iloc[:, :-1]"
   ]
  },
  {
   "cell_type": "code",
   "execution_count": 18,
   "id": "GT1LIge3NIEf",
   "metadata": {
    "colab": {
     "base_uri": "https://localhost:8080/"
    },
    "id": "GT1LIge3NIEf",
    "outputId": "0f7a22fc-7b15-484d-fdfc-4faf6631e51e"
   },
   "outputs": [
    {
     "data": {
      "text/plain": [
       "array([9.39071173e-01, 5.40809848e-02, 5.04739274e-03, 1.39577421e-03,\n",
       "       4.04675525e-04])"
      ]
     },
     "execution_count": 18,
     "metadata": {},
     "output_type": "execute_result"
    }
   ],
   "source": [
    "#Variance of each column\n",
    "pca_all = PCA()\n",
    "X_PCA_all = pca_all.fit_transform(X_pca)\n",
    "pca_all.explained_variance_ratio_   \n"
   ]
  },
  {
   "cell_type": "code",
   "execution_count": 19,
   "id": "250a346f",
   "metadata": {
    "id": "250a346f"
   },
   "outputs": [],
   "source": [
    "#chosing first two principle components as it explains almost 88% of data\n",
    "pca = PCA(n_components=2)\n",
    "pca.fit(X_pca)\n",
    "X_PCA = pca.transform(X_pca)\n",
    "\n",
    "X_PCA = pd.DataFrame(X_PCA, columns=['PC1', 'PC2'])"
   ]
  },
  {
   "cell_type": "code",
   "execution_count": 20,
   "id": "f87731a9",
   "metadata": {
    "colab": {
     "base_uri": "https://localhost:8080/",
     "height": 439
    },
    "id": "f87731a9",
    "outputId": "246f8421-ecf8-4498-e12a-5ac2d4fd3a49"
   },
   "outputs": [
    {
     "name": "stdout",
     "output_type": "stream",
     "text": [
      "377\n",
      "81\n"
     ]
    },
    {
     "data": {
      "image/png": "[encoded data removed]",
      "text/plain": [
       "<Figure size 576x432 with 1 Axes>"
      ]
     },
     "metadata": {
      "needs_background": "light"
     },
     "output_type": "display_data"
    }
   ],
   "source": [
    "#scatter plot of data using pca=2\n",
    "plt.figure(figsize=(8, 6))\n",
    "plt.scatter(X_PCA['PC1'], X_PCA['PC2'])\n",
    "plt.xlabel('PC1')\n",
    "plt.ylabel('PC2')\n",
    "plt.title('Scatter plot using pca=2')\n",
    "\n",
    "PCA_max = np.argmax(X_PCA['PC1'])\n",
    "PCA_min = np.argmin(X_PCA['PC1'])\n",
    "\n",
    "print(PCA_max)\n",
    "print(PCA_min)"
   ]
  },
  {
   "cell_type": "code",
   "execution_count": 21,
   "id": "7d49d9d3",
   "metadata": {
    "id": "7d49d9d3"
   },
   "outputs": [],
   "source": [
    "#Apply scalling\n",
    "from sklearn.preprocessing import StandardScaler\n",
    "scaler = StandardScaler()\n",
    "X_pca = scaler.fit_transform(X_pca)\n"
   ]
  },
  {
   "cell_type": "code",
   "execution_count": 22,
   "id": "082a5df6",
   "metadata": {
    "colab": {
     "base_uri": "https://localhost:8080/",
     "height": 424
    },
    "id": "082a5df6",
    "outputId": "4275fdb9-fb03-4ba6-f565-d766c98db7a8"
   },
   "outputs": [
    {
     "data": {
      "text/html": [
       "<div>\n",
       "<style scoped>\n",
       "    .dataframe tbody tr th:only-of-type {\n",
       "        vertical-align: middle;\n",
       "    }\n",
       "\n",
       "    .dataframe tbody tr th {\n",
       "        vertical-align: top;\n",
       "    }\n",
       "\n",
       "    .dataframe thead th {\n",
       "        text-align: right;\n",
       "    }\n",
       "</style>\n",
       "<table border=\"1\" class=\"dataframe\">\n",
       "  <thead>\n",
       "    <tr style=\"text-align: right;\">\n",
       "      <th></th>\n",
       "      <th>0</th>\n",
       "      <th>1</th>\n",
       "      <th>2</th>\n",
       "      <th>3</th>\n",
       "      <th>4</th>\n",
       "    </tr>\n",
       "  </thead>\n",
       "  <tbody>\n",
       "    <tr>\n",
       "      <th>0</th>\n",
       "      <td>1.762107</td>\n",
       "      <td>1.746971</td>\n",
       "      <td>1.093864</td>\n",
       "      <td>1.167321</td>\n",
       "      <td>1.764818</td>\n",
       "    </tr>\n",
       "    <tr>\n",
       "      <th>1</th>\n",
       "      <td>0.627656</td>\n",
       "      <td>-0.067635</td>\n",
       "      <td>0.596653</td>\n",
       "      <td>1.167321</td>\n",
       "      <td>0.455151</td>\n",
       "    </tr>\n",
       "    <tr>\n",
       "      <th>2</th>\n",
       "      <td>-0.070467</td>\n",
       "      <td>-0.562528</td>\n",
       "      <td>-0.397769</td>\n",
       "      <td>0.052933</td>\n",
       "      <td>-1.005631</td>\n",
       "    </tr>\n",
       "    <tr>\n",
       "      <th>3</th>\n",
       "      <td>0.453126</td>\n",
       "      <td>0.427257</td>\n",
       "      <td>0.099442</td>\n",
       "      <td>-1.061454</td>\n",
       "      <td>0.119339</td>\n",
       "    </tr>\n",
       "    <tr>\n",
       "      <th>4</th>\n",
       "      <td>-0.244998</td>\n",
       "      <td>-0.727492</td>\n",
       "      <td>-1.392191</td>\n",
       "      <td>-0.504260</td>\n",
       "      <td>-0.653029</td>\n",
       "    </tr>\n",
       "    <tr>\n",
       "      <th>...</th>\n",
       "      <td>...</td>\n",
       "      <td>...</td>\n",
       "      <td>...</td>\n",
       "      <td>...</td>\n",
       "      <td>...</td>\n",
       "    </tr>\n",
       "    <tr>\n",
       "      <th>395</th>\n",
       "      <td>0.627656</td>\n",
       "      <td>0.427257</td>\n",
       "      <td>0.099442</td>\n",
       "      <td>0.052933</td>\n",
       "      <td>0.740592</td>\n",
       "    </tr>\n",
       "    <tr>\n",
       "      <th>396</th>\n",
       "      <td>0.714922</td>\n",
       "      <td>-0.067635</td>\n",
       "      <td>-0.397769</td>\n",
       "      <td>0.052933</td>\n",
       "      <td>0.858126</td>\n",
       "    </tr>\n",
       "    <tr>\n",
       "      <th>397</th>\n",
       "      <td>1.151249</td>\n",
       "      <td>1.417042</td>\n",
       "      <td>1.591075</td>\n",
       "      <td>1.167321</td>\n",
       "      <td>1.429006</td>\n",
       "    </tr>\n",
       "    <tr>\n",
       "      <th>398</th>\n",
       "      <td>-0.419528</td>\n",
       "      <td>-0.727492</td>\n",
       "      <td>0.099442</td>\n",
       "      <td>0.610127</td>\n",
       "      <td>0.304036</td>\n",
       "    </tr>\n",
       "    <tr>\n",
       "      <th>399</th>\n",
       "      <td>1.413045</td>\n",
       "      <td>1.582006</td>\n",
       "      <td>1.591075</td>\n",
       "      <td>0.610127</td>\n",
       "      <td>1.781609</td>\n",
       "    </tr>\n",
       "  </tbody>\n",
       "</table>\n",
       "<p>400 rows × 5 columns</p>\n",
       "</div>"
      ],
      "text/plain": [
       "            0         1         2         3         4\n",
       "0    1.762107  1.746971  1.093864  1.167321  1.764818\n",
       "1    0.627656 -0.067635  0.596653  1.167321  0.455151\n",
       "2   -0.070467 -0.562528 -0.397769  0.052933 -1.005631\n",
       "3    0.453126  0.427257  0.099442 -1.061454  0.119339\n",
       "4   -0.244998 -0.727492 -1.392191 -0.504260 -0.653029\n",
       "..        ...       ...       ...       ...       ...\n",
       "395  0.627656  0.427257  0.099442  0.052933  0.740592\n",
       "396  0.714922 -0.067635 -0.397769  0.052933  0.858126\n",
       "397  1.151249  1.417042  1.591075  1.167321  1.429006\n",
       "398 -0.419528 -0.727492  0.099442  0.610127  0.304036\n",
       "399  1.413045  1.582006  1.591075  0.610127  1.781609\n",
       "\n",
       "[400 rows x 5 columns]"
      ]
     },
     "execution_count": 22,
     "metadata": {},
     "output_type": "execute_result"
    }
   ],
   "source": [
    "pd.DataFrame(X_pca)"
   ]
  },
  {
   "cell_type": "code",
   "execution_count": 23,
   "id": "d65d1440",
   "metadata": {
    "id": "d65d1440"
   },
   "outputs": [],
   "source": [
    "#spliting in train and test data\n",
    "X_train_pca, X_test_pca, y_train_pca, y_test_pca = train_test_split(X_pca, y_pca, train_size=0.8, shuffle=True)\n"
   ]
  },
  {
   "cell_type": "code",
   "execution_count": 24,
   "id": "f625ae7f",
   "metadata": {
    "colab": {
     "base_uri": "https://localhost:8080/"
    },
    "id": "f625ae7f",
    "outputId": "e557e985-a3ff-46bf-da9f-373eaac20d49"
   },
   "outputs": [
    {
     "data": {
      "text/plain": [
       "LinearRegression()"
      ]
     },
     "execution_count": 24,
     "metadata": {},
     "output_type": "execute_result"
    }
   ],
   "source": [
    "#apply linear regression using principle components\n",
    "model = LinearRegression()\n",
    "model.fit(X_train_pca, y_train_pca)"
   ]
  },
  {
   "cell_type": "code",
   "execution_count": 25,
   "id": "b9ac2fe3",
   "metadata": {
    "id": "b9ac2fe3"
   },
   "outputs": [],
   "source": [
    "#model score\n",
    "LR_PCA_score = model.score(X_test_pca, y_test_pca)"
   ]
  },
  {
   "cell_type": "code",
   "execution_count": 26,
   "id": "f9f2a2bc",
   "metadata": {
    "id": "f9f2a2bc"
   },
   "outputs": [],
   "source": [
    "#predicted values of training and testing \n",
    "pred_train_pca = model.predict(X_train_pca)\n",
    "pred_test_pca = model.predict(X_test_pca)"
   ]
  },
  {
   "cell_type": "code",
   "execution_count": 27,
   "id": "ac15fcb7",
   "metadata": {
    "colab": {
     "base_uri": "https://localhost:8080/"
    },
    "id": "ac15fcb7",
    "outputId": "236b43de-a824-4f67-b46f-889ef26186b3"
   },
   "outputs": [
    {
     "data": {
      "text/plain": [
       "0.004244813045478053"
      ]
     },
     "execution_count": 27,
     "metadata": {},
     "output_type": "execute_result"
    }
   ],
   "source": [
    "#calculating MSE of training data\n",
    "n_train_pca=len(X_train_pca)  \n",
    "n_test_pca=len(X_test_pca)\n",
    "\n",
    "pca_train_MSE = 1/n_train_pca*sum((y_train_pca-pred_train_pca)**2)\n",
    "pca_train_MSE\n"
   ]
  },
  {
   "cell_type": "code",
   "execution_count": 28,
   "id": "5a3cfd26",
   "metadata": {
    "colab": {
     "base_uri": "https://localhost:8080/"
    },
    "id": "5a3cfd26",
    "outputId": "4953e200-3d1c-4186-c07f-385201d9fd06"
   },
   "outputs": [
    {
     "data": {
      "text/plain": [
       "0.003608167795482937"
      ]
     },
     "execution_count": 28,
     "metadata": {},
     "output_type": "execute_result"
    }
   ],
   "source": [
    "#calculating MSE of testing data\n",
    "pca_test_MSE = 1/n_test_pca*sum((y_test_pca-pred_test_pca)**2) \n",
    "pca_test_MSE"
   ]
  },
  {
   "cell_type": "code",
   "execution_count": 29,
   "id": "f63cfddb",
   "metadata": {
    "colab": {
     "base_uri": "https://localhost:8080/",
     "height": 405
    },
    "id": "f63cfddb",
    "outputId": "99399553-e7fd-46ad-e53f-3bb5a0039dde",
    "scrolled": false
   },
   "outputs": [
    {
     "data": {
      "text/plain": [
       "Text(0, 0.5, 'Actual value')"
      ]
     },
     "execution_count": 29,
     "metadata": {},
     "output_type": "execute_result"
    },
    {
     "data": {
      "image/png": "[encoded data removed]",
      "text/plain": [
       "<Figure size 576x432 with 1 Axes>"
      ]
     },
     "metadata": {
      "needs_background": "light"
     },
     "output_type": "display_data"
    }
   ],
   "source": [
    "#fitting regression line(decision boundry) in scatter plot\n",
    "plt.figure(figsize=(8, 6))\n",
    "plt.plot(pred_test_pca, y_test_pca, 'o')\n",
    "plt.xlabel('Predicted value')\n",
    "plt.plot([min(pred_test_pca), max(pred_test_pca)], [min(y_test_pca), max(y_test_pca)], color = 'black')\n",
    "plt.ylabel('Actual value')"
   ]
  },
  {
   "cell_type": "code",
   "execution_count": 30,
   "id": "ANyIuabWSsCO",
   "metadata": {
    "colab": {
     "base_uri": "https://localhost:8080/"
    },
    "id": "ANyIuabWSsCO",
    "outputId": "74dad97f-188c-4595-89cd-63d2fc30c31e"
   },
   "outputs": [
    {
     "name": "stdout",
     "output_type": "stream",
     "text": [
      "0.7640600485218347 0.8420154227358346\n",
      "appliying pca improves our model score\n"
     ]
    }
   ],
   "source": [
    "print(LR_score,LR_PCA_score) \n",
    "print('appliying pca improves our model score') "
   ]
  },
  {
   "cell_type": "code",
   "execution_count": 31,
   "id": "08rdCzrnVVA7",
   "metadata": {
    "colab": {
     "base_uri": "https://localhost:8080/"
    },
    "id": "08rdCzrnVVA7",
    "outputId": "38579d9c-47f8-4401-b35e-b4fb28948e71"
   },
   "outputs": [
    {
     "data": {
      "text/plain": [
       "array([0.66999588, 0.4870193 , 0.94470193, 0.69701209, 0.65950419,\n",
       "       0.78031148, 0.44353424, 0.55752765, 0.66143057, 0.88305603,\n",
       "       0.59757122, 0.95636265, 0.63819199, 0.74011391, 0.95537213,\n",
       "       0.754683  , 0.72597117, 0.85638934, 0.59357211, 0.45060611,\n",
       "       0.84442101, 0.61582825, 0.71652328, 0.9520971 , 0.6543441 ,\n",
       "       0.7216398 , 0.51390983, 0.66296171, 0.67227436, 0.56145259,\n",
       "       0.62966896, 0.64408958, 0.69933275, 0.76647768, 0.80715315,\n",
       "       0.75304683, 0.68603138, 0.79556388, 0.69307258, 0.65296436,\n",
       "       0.69257085, 0.66100528, 0.54316737, 0.60868609, 0.79635261,\n",
       "       0.73429364, 0.74185574, 0.73770585, 0.77674952, 0.607919  ,\n",
       "       0.65673502, 0.80468732, 0.7311152 , 0.77003282, 0.57177669,\n",
       "       0.67986469, 0.6351577 , 0.64972574, 0.5966791 , 0.79124928,\n",
       "       0.6532005 , 0.58849072, 0.80680939, 0.8193439 , 0.82595394,\n",
       "       0.62882927, 0.70930054, 0.55786124, 0.56607477, 0.64144875,\n",
       "       0.61544241, 0.84369342, 0.81949234, 0.75303542, 0.59674369,\n",
       "       0.72988274, 0.72006492, 0.72889215, 0.6985124 , 0.73225102])"
      ]
     },
     "execution_count": 31,
     "metadata": {},
     "output_type": "execute_result"
    }
   ],
   "source": [
    "y_pred #predicted values of testing data of Linear regression"
   ]
  },
  {
   "cell_type": "code",
   "execution_count": 32,
   "id": "Ia3nq24kV-Vw",
   "metadata": {
    "colab": {
     "base_uri": "https://localhost:8080/"
    },
    "id": "Ia3nq24kV-Vw",
    "outputId": "425a1f7e-2232-45b3-d09a-9810201900e2"
   },
   "outputs": [
    {
     "data": {
      "text/plain": [
       "array([0.47727157, 0.73319288, 0.85560197, 0.73960606, 0.73503415,\n",
       "       0.50855286, 0.76163006, 0.74765861, 0.90925358, 0.49350655,\n",
       "       0.84656078, 0.82868577, 0.7288351 , 0.69846484, 0.45647786,\n",
       "       0.84598487, 0.72219569, 0.6376372 , 0.88100019, 0.91988434,\n",
       "       0.89717547, 0.6513355 , 0.72762694, 0.95318778, 0.65013414,\n",
       "       0.95055131, 0.87370056, 0.50024312, 0.5425867 , 0.62393075,\n",
       "       0.63726662, 0.48378593, 0.72739469, 0.62854504, 0.69196157,\n",
       "       0.62075109, 0.7314948 , 0.64158118, 0.94422817, 0.82702343,\n",
       "       0.62951985, 0.68947617, 0.68291429, 0.51847409, 0.70930158,\n",
       "       0.87655615, 0.78837629, 0.67579634, 0.74578183, 0.57097972,\n",
       "       0.55263572, 0.97672843, 0.70491104, 0.96410869, 0.75160165,\n",
       "       0.65971154, 0.88069979, 0.8580718 , 0.77439843, 0.93227162,\n",
       "       0.7718139 , 0.6908812 , 0.54332377, 0.67139316, 0.5545745 ,\n",
       "       0.76752942, 0.47120628, 0.51351187, 0.62908463, 0.84281331,\n",
       "       0.59870688, 0.67205167, 0.71370338, 0.61021951, 0.54287427,\n",
       "       0.70350771, 0.78730949, 0.56113914, 0.70442553, 0.67379818])"
      ]
     },
     "execution_count": 32,
     "metadata": {},
     "output_type": "execute_result"
    }
   ],
   "source": [
    "pred_test_pca #predicted values of testing data of Linear regression with PCA"
   ]
  },
  {
   "cell_type": "code",
   "execution_count": 34,
   "id": "JpniO0xsWSJ9",
   "metadata": {
    "id": "JpniO0xsWSJ9"
   },
   "outputs": [],
   "source": [
    "LR_predictions = pd.DataFrame(y_pred, columns=['LR_predictions']).to_csv('LR_predictions.csv')"
   ]
  },
  {
   "cell_type": "code",
   "execution_count": 35,
   "id": "48YZjGkQW69B",
   "metadata": {
    "id": "48YZjGkQW69B"
   },
   "outputs": [],
   "source": [
    "LR_PCA_predictions = pd.DataFrame(pred_test_pca, columns=['LR_PCA_predictions']).to_csv('LR_PCA_predictions.csv')"
   ]
  }
 ],
 "metadata": {
  "colab": {
   "provenance": []
  },
  "kernelspec": {
   "display_name": "Python 3",
   "language": "python",
   "name": "python3"
  },
  "language_info": {
   "codemirror_mode": {
    "name": "ipython",
    "version": 3
   },
   "file_extension": ".py",
   "mimetype": "text/x-python",
   "name": "python",
   "nbconvert_exporter": "python",
   "pygments_lexer": "ipython3",
   "version": "3.8.8"
  }
 },
 "nbformat": 4,
 "nbformat_minor": 5
}
